{
 "cells": [
  {
   "cell_type": "code",
   "execution_count": 7,
   "id": "52ee58c8",
   "metadata": {},
   "outputs": [],
   "source": [
    "import pandas as pd\n",
    "import numpy as np\n",
    "import matplotlib.pyplot as plt\n",
    "import seaborn as sns"
   ]
  },
  {
   "cell_type": "code",
   "execution_count": 8,
   "id": "1ef39e07",
   "metadata": {},
   "outputs": [],
   "source": [
    "file_names = ['AAPL', 'GOOG', 'META', 'MSFT']\n",
    "\n",
    "data_frames = {}\n",
    "\n",
    "for file_name in file_names:\n",
    "    file_path = f'data/{file_name}.csv'\n",
    "    data_frames[file_name] = pd.read_csv(file_path)\n",
    "    \n",
    "aapl_data = data_frames['AAPL'][['Date', 'Close']].rename(\n",
    "    columns = {'Close':'AAPL'})\n",
    "goog_data = data_frames['GOOG'][['Date', 'Close']].rename(\n",
    "    columns = {'Close':'GOOG'})\n",
    "meta_data = data_frames['META'][['Date', 'Close']].rename(\n",
    "    columns = {'Close':'META'})\n",
    "msft_data = data_frames['MSFT'][['Date', 'Close']].rename(\n",
    "    columns = {'Close':'MSFT'})"
   ]
  },
  {
   "cell_type": "code",
   "execution_count": 9,
   "id": "b6ea4882",
   "metadata": {},
   "outputs": [
    {
     "data": {
      "text/html": [
       "<div>\n",
       "<style scoped>\n",
       "    .dataframe tbody tr th:only-of-type {\n",
       "        vertical-align: middle;\n",
       "    }\n",
       "\n",
       "    .dataframe tbody tr th {\n",
       "        vertical-align: top;\n",
       "    }\n",
       "\n",
       "    .dataframe thead th {\n",
       "        text-align: right;\n",
       "    }\n",
       "</style>\n",
       "<table border=\"1\" class=\"dataframe\">\n",
       "  <thead>\n",
       "    <tr style=\"text-align: right;\">\n",
       "      <th></th>\n",
       "      <th>Date</th>\n",
       "      <th>AAPL</th>\n",
       "      <th>GOOG</th>\n",
       "      <th>META</th>\n",
       "      <th>MSFT</th>\n",
       "    </tr>\n",
       "  </thead>\n",
       "  <tbody>\n",
       "    <tr>\n",
       "      <th>0</th>\n",
       "      <td>1980-12-12</td>\n",
       "      <td>0.128348</td>\n",
       "      <td>NaN</td>\n",
       "      <td>NaN</td>\n",
       "      <td>NaN</td>\n",
       "    </tr>\n",
       "    <tr>\n",
       "      <th>1</th>\n",
       "      <td>1980-12-15</td>\n",
       "      <td>0.121652</td>\n",
       "      <td>NaN</td>\n",
       "      <td>NaN</td>\n",
       "      <td>NaN</td>\n",
       "    </tr>\n",
       "    <tr>\n",
       "      <th>2</th>\n",
       "      <td>1980-12-16</td>\n",
       "      <td>0.112723</td>\n",
       "      <td>NaN</td>\n",
       "      <td>NaN</td>\n",
       "      <td>NaN</td>\n",
       "    </tr>\n",
       "    <tr>\n",
       "      <th>3</th>\n",
       "      <td>1980-12-17</td>\n",
       "      <td>0.115513</td>\n",
       "      <td>NaN</td>\n",
       "      <td>NaN</td>\n",
       "      <td>NaN</td>\n",
       "    </tr>\n",
       "    <tr>\n",
       "      <th>4</th>\n",
       "      <td>1980-12-18</td>\n",
       "      <td>0.118862</td>\n",
       "      <td>NaN</td>\n",
       "      <td>NaN</td>\n",
       "      <td>NaN</td>\n",
       "    </tr>\n",
       "  </tbody>\n",
       "</table>\n",
       "</div>"
      ],
      "text/plain": [
       "         Date      AAPL  GOOG  META  MSFT\n",
       "0  1980-12-12  0.128348   NaN   NaN   NaN\n",
       "1  1980-12-15  0.121652   NaN   NaN   NaN\n",
       "2  1980-12-16  0.112723   NaN   NaN   NaN\n",
       "3  1980-12-17  0.115513   NaN   NaN   NaN\n",
       "4  1980-12-18  0.118862   NaN   NaN   NaN"
      ]
     },
     "execution_count": 9,
     "metadata": {},
     "output_type": "execute_result"
    }
   ],
   "source": [
    "merged_data_AG = pd.merge(aapl_data, goog_data, on='Date', how='outer')\n",
    "merged_data_AGM = pd.merge(merged_data_AG, meta_data, on='Date', how='outer')\n",
    "df_final = pd.merge(merged_data_AGM, msft_data, on='Date', how='outer')\n",
    "df_final = df_final.reset_index(drop=True)\n",
    "df_final.head()\n"
   ]
  },
  {
   "cell_type": "code",
   "execution_count": 10,
   "id": "f1f29531",
   "metadata": {},
   "outputs": [],
   "source": [
    "df_final.to_csv(\"data/stocks.csv\", sep = \",\", decimal = \".\")"
   ]
  },
  {
   "cell_type": "code",
   "execution_count": null,
   "id": "634065cf",
   "metadata": {},
   "outputs": [],
   "source": []
  }
 ],
 "metadata": {
  "kernelspec": {
   "display_name": "Python 3 (ipykernel)",
   "language": "python",
   "name": "python3"
  },
  "language_info": {
   "codemirror_mode": {
    "name": "ipython",
    "version": 3
   },
   "file_extension": ".py",
   "mimetype": "text/x-python",
   "name": "python",
   "nbconvert_exporter": "python",
   "pygments_lexer": "ipython3",
   "version": "3.11.5"
  }
 },
 "nbformat": 4,
 "nbformat_minor": 5
}
