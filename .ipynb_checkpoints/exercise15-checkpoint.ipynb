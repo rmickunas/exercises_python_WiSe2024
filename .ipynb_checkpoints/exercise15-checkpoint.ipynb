{
 "cells": [
  {
   "cell_type": "code",
   "execution_count": 13,
   "id": "a178ebd1",
   "metadata": {},
   "outputs": [],
   "source": [
    "import pandas as pd #STRG + Enter\n",
    "import numpy as np"
   ]
  },
  {
   "cell_type": "code",
   "execution_count": 22,
   "id": "6afc321d",
   "metadata": {},
   "outputs": [
    {
     "data": {
      "text/html": [
       "<div>\n",
       "<style scoped>\n",
       "    .dataframe tbody tr th:only-of-type {\n",
       "        vertical-align: middle;\n",
       "    }\n",
       "\n",
       "    .dataframe tbody tr th {\n",
       "        vertical-align: top;\n",
       "    }\n",
       "\n",
       "    .dataframe thead th {\n",
       "        text-align: right;\n",
       "    }\n",
       "</style>\n",
       "<table border=\"1\" class=\"dataframe\">\n",
       "  <thead>\n",
       "    <tr style=\"text-align: right;\">\n",
       "      <th></th>\n",
       "      <th>bevölkerung</th>\n",
       "      <th>fläche</th>\n",
       "      <th>land</th>\n",
       "      <th>sprache</th>\n",
       "    </tr>\n",
       "  </thead>\n",
       "  <tbody>\n",
       "    <tr>\n",
       "      <th>Berlin</th>\n",
       "      <td>3.6</td>\n",
       "      <td>892</td>\n",
       "      <td>Deutschland</td>\n",
       "      <td>Deutsch</td>\n",
       "    </tr>\n",
       "    <tr>\n",
       "      <th>Madrid</th>\n",
       "      <td>3.2</td>\n",
       "      <td>604</td>\n",
       "      <td>Spanien</td>\n",
       "      <td>Spanisch</td>\n",
       "    </tr>\n",
       "    <tr>\n",
       "      <th>Rom</th>\n",
       "      <td>2.8</td>\n",
       "      <td>1285</td>\n",
       "      <td>Italien</td>\n",
       "      <td>None</td>\n",
       "    </tr>\n",
       "  </tbody>\n",
       "</table>\n",
       "</div>"
      ],
      "text/plain": [
       "        bevölkerung  fläche         land   sprache\n",
       "Berlin          3.6     892  Deutschland   Deutsch\n",
       "Madrid          3.2     604      Spanien  Spanisch\n",
       "Rom             2.8    1285      Italien      None"
      ]
     },
     "execution_count": 22,
     "metadata": {},
     "output_type": "execute_result"
    }
   ],
   "source": [
    "index = [\"Berlin\", \"Madrid\", \"Rom\"]\n",
    "bevölkerung = pd.Series(data=[3.6,3.2,2.8], index=index)\n",
    "fläche = pd.Series(data=[892,604,1285], index=index)\n",
    "land = pd.Series(data=[\"Deutschland\",\"Spanien\",\"Italien\"], index=index)\n",
    "sprache = pd.Series(data=[\"Deutsch\",\"Spanisch\",None], index=index)\n",
    "\n",
    "my_dict = {'bevölkerung': bevölkerung,\n",
    "          'fläche': fläche,\n",
    "          'land': land,\n",
    "          'sprache': sprache}\n",
    "df=pd.DataFrame(my_dict)\n",
    "df"
   ]
  },
  {
   "cell_type": "code",
   "execution_count": 5,
   "id": "7659bd19",
   "metadata": {},
   "outputs": [
    {
     "data": {
      "text/plain": [
       "(3, 4)"
      ]
     },
     "execution_count": 5,
     "metadata": {},
     "output_type": "execute_result"
    }
   ],
   "source": [
    "df.shape"
   ]
  },
  {
   "cell_type": "code",
   "execution_count": 7,
   "id": "81271ec3",
   "metadata": {},
   "outputs": [
    {
     "data": {
      "text/plain": [
       "bevölkerung    float64\n",
       "fläche           int64\n",
       "land            object\n",
       "sprache         object\n",
       "dtype: object"
      ]
     },
     "execution_count": 7,
     "metadata": {},
     "output_type": "execute_result"
    }
   ],
   "source": [
    "df.dtypes"
   ]
  },
  {
   "cell_type": "code",
   "execution_count": 8,
   "id": "44ce3580",
   "metadata": {},
   "outputs": [
    {
     "name": "stdout",
     "output_type": "stream",
     "text": [
      "<class 'pandas.core.frame.DataFrame'>\n",
      "Index: 3 entries, Berlin to Rom\n",
      "Data columns (total 4 columns):\n",
      " #   Column       Non-Null Count  Dtype  \n",
      "---  ------       --------------  -----  \n",
      " 0   bevölkerung  3 non-null      float64\n",
      " 1   fläche       3 non-null      int64  \n",
      " 2   land         3 non-null      object \n",
      " 3   sprache      2 non-null      object \n",
      "dtypes: float64(1), int64(1), object(2)\n",
      "memory usage: 120.0+ bytes\n"
     ]
    }
   ],
   "source": [
    "df.info()"
   ]
  },
  {
   "cell_type": "code",
   "execution_count": 10,
   "id": "fac76e06",
   "metadata": {},
   "outputs": [
    {
     "data": {
      "text/html": [
       "<div>\n",
       "<style scoped>\n",
       "    .dataframe tbody tr th:only-of-type {\n",
       "        vertical-align: middle;\n",
       "    }\n",
       "\n",
       "    .dataframe tbody tr th {\n",
       "        vertical-align: top;\n",
       "    }\n",
       "\n",
       "    .dataframe thead th {\n",
       "        text-align: right;\n",
       "    }\n",
       "</style>\n",
       "<table border=\"1\" class=\"dataframe\">\n",
       "  <thead>\n",
       "    <tr style=\"text-align: right;\">\n",
       "      <th></th>\n",
       "      <th>bevölkerung</th>\n",
       "      <th>fläche</th>\n",
       "    </tr>\n",
       "  </thead>\n",
       "  <tbody>\n",
       "    <tr>\n",
       "      <th>count</th>\n",
       "      <td>3.0</td>\n",
       "      <td>3.000000</td>\n",
       "    </tr>\n",
       "    <tr>\n",
       "      <th>mean</th>\n",
       "      <td>3.2</td>\n",
       "      <td>927.000000</td>\n",
       "    </tr>\n",
       "    <tr>\n",
       "      <th>std</th>\n",
       "      <td>0.4</td>\n",
       "      <td>341.846457</td>\n",
       "    </tr>\n",
       "    <tr>\n",
       "      <th>min</th>\n",
       "      <td>2.8</td>\n",
       "      <td>604.000000</td>\n",
       "    </tr>\n",
       "    <tr>\n",
       "      <th>25%</th>\n",
       "      <td>3.0</td>\n",
       "      <td>748.000000</td>\n",
       "    </tr>\n",
       "    <tr>\n",
       "      <th>50%</th>\n",
       "      <td>3.2</td>\n",
       "      <td>892.000000</td>\n",
       "    </tr>\n",
       "    <tr>\n",
       "      <th>75%</th>\n",
       "      <td>3.4</td>\n",
       "      <td>1088.500000</td>\n",
       "    </tr>\n",
       "    <tr>\n",
       "      <th>max</th>\n",
       "      <td>3.6</td>\n",
       "      <td>1285.000000</td>\n",
       "    </tr>\n",
       "  </tbody>\n",
       "</table>\n",
       "</div>"
      ],
      "text/plain": [
       "       bevölkerung       fläche\n",
       "count          3.0     3.000000\n",
       "mean           3.2   927.000000\n",
       "std            0.4   341.846457\n",
       "min            2.8   604.000000\n",
       "25%            3.0   748.000000\n",
       "50%            3.2   892.000000\n",
       "75%            3.4  1088.500000\n",
       "max            3.6  1285.000000"
      ]
     },
     "execution_count": 10,
     "metadata": {},
     "output_type": "execute_result"
    }
   ],
   "source": [
    "df.describe()"
   ]
  },
  {
   "cell_type": "code",
   "execution_count": 11,
   "id": "14a739c0",
   "metadata": {},
   "outputs": [
    {
     "data": {
      "text/html": [
       "<div>\n",
       "<style scoped>\n",
       "    .dataframe tbody tr th:only-of-type {\n",
       "        vertical-align: middle;\n",
       "    }\n",
       "\n",
       "    .dataframe tbody tr th {\n",
       "        vertical-align: top;\n",
       "    }\n",
       "\n",
       "    .dataframe thead th {\n",
       "        text-align: right;\n",
       "    }\n",
       "</style>\n",
       "<table border=\"1\" class=\"dataframe\">\n",
       "  <thead>\n",
       "    <tr style=\"text-align: right;\">\n",
       "      <th></th>\n",
       "      <th>bevölkerung</th>\n",
       "      <th>fläche</th>\n",
       "      <th>land</th>\n",
       "      <th>sprache</th>\n",
       "    </tr>\n",
       "  </thead>\n",
       "  <tbody>\n",
       "    <tr>\n",
       "      <th>Berlin</th>\n",
       "      <td>False</td>\n",
       "      <td>False</td>\n",
       "      <td>False</td>\n",
       "      <td>False</td>\n",
       "    </tr>\n",
       "    <tr>\n",
       "      <th>Madrid</th>\n",
       "      <td>False</td>\n",
       "      <td>False</td>\n",
       "      <td>False</td>\n",
       "      <td>False</td>\n",
       "    </tr>\n",
       "    <tr>\n",
       "      <th>Rom</th>\n",
       "      <td>False</td>\n",
       "      <td>False</td>\n",
       "      <td>False</td>\n",
       "      <td>True</td>\n",
       "    </tr>\n",
       "  </tbody>\n",
       "</table>\n",
       "</div>"
      ],
      "text/plain": [
       "        bevölkerung  fläche   land  sprache\n",
       "Berlin        False   False  False    False\n",
       "Madrid        False   False  False    False\n",
       "Rom           False   False  False     True"
      ]
     },
     "execution_count": 11,
     "metadata": {},
     "output_type": "execute_result"
    }
   ],
   "source": [
    "df.isnull()"
   ]
  },
  {
   "cell_type": "code",
   "execution_count": 12,
   "id": "8bf8916f",
   "metadata": {},
   "outputs": [
    {
     "data": {
      "text/plain": [
       "bevölkerung    0\n",
       "fläche         0\n",
       "land           0\n",
       "sprache        1\n",
       "dtype: int64"
      ]
     },
     "execution_count": 12,
     "metadata": {},
     "output_type": "execute_result"
    }
   ],
   "source": [
    "df.isnull().sum()"
   ]
  },
  {
   "cell_type": "markdown",
   "id": "c492cad2",
   "metadata": {},
   "source": [
    "#Frage 2 "
   ]
  },
  {
   "cell_type": "markdown",
   "id": "a6041c52",
   "metadata": {},
   "source": [
    "#Frage 2"
   ]
  },
  {
   "cell_type": "markdown",
   "id": "22f5f2b3",
   "metadata": {},
   "source": [
    "# Frage 2"
   ]
  },
  {
   "cell_type": "code",
   "execution_count": 14,
   "id": "6866a7a2",
   "metadata": {},
   "outputs": [
    {
     "data": {
      "text/plain": [
       "(array([2], dtype=int64), array([3], dtype=int64))"
      ]
     },
     "execution_count": 14,
     "metadata": {},
     "output_type": "execute_result"
    }
   ],
   "source": [
    "np.where(df.isna())"
   ]
  },
  {
   "cell_type": "code",
   "execution_count": 21,
   "id": "b8837aca",
   "metadata": {},
   "outputs": [
    {
     "ename": "IndexError",
     "evalue": "iloc cannot enlarge its target object",
     "output_type": "error",
     "traceback": [
      "\u001b[1;31m---------------------------------------------------------------------------\u001b[0m",
      "\u001b[1;31mIndexError\u001b[0m                                Traceback (most recent call last)",
      "Cell \u001b[1;32mIn[21], line 1\u001b[0m\n\u001b[1;32m----> 1\u001b[0m df\u001b[38;5;241m.\u001b[39miloc[\u001b[38;5;241m3\u001b[39m, \u001b[38;5;241m2\u001b[39m] \u001b[38;5;241m=\u001b[39m \u001b[38;5;124m\"\u001b[39m\u001b[38;5;124mitalienisch\u001b[39m\u001b[38;5;124m\"\u001b[39m\n",
      "File \u001b[1;32mC:\\ProgramData\\anaconda3\\Lib\\site-packages\\pandas\\core\\indexing.py:846\u001b[0m, in \u001b[0;36m_LocationIndexer.__setitem__\u001b[1;34m(self, key, value)\u001b[0m\n\u001b[0;32m    844\u001b[0m     key \u001b[38;5;241m=\u001b[39m com\u001b[38;5;241m.\u001b[39mapply_if_callable(key, \u001b[38;5;28mself\u001b[39m\u001b[38;5;241m.\u001b[39mobj)\n\u001b[0;32m    845\u001b[0m indexer \u001b[38;5;241m=\u001b[39m \u001b[38;5;28mself\u001b[39m\u001b[38;5;241m.\u001b[39m_get_setitem_indexer(key)\n\u001b[1;32m--> 846\u001b[0m \u001b[38;5;28mself\u001b[39m\u001b[38;5;241m.\u001b[39m_has_valid_setitem_indexer(key)\n\u001b[0;32m    848\u001b[0m iloc \u001b[38;5;241m=\u001b[39m \u001b[38;5;28mself\u001b[39m \u001b[38;5;28;01mif\u001b[39;00m \u001b[38;5;28mself\u001b[39m\u001b[38;5;241m.\u001b[39mname \u001b[38;5;241m==\u001b[39m \u001b[38;5;124m\"\u001b[39m\u001b[38;5;124miloc\u001b[39m\u001b[38;5;124m\"\u001b[39m \u001b[38;5;28;01melse\u001b[39;00m \u001b[38;5;28mself\u001b[39m\u001b[38;5;241m.\u001b[39mobj\u001b[38;5;241m.\u001b[39miloc\n\u001b[0;32m    849\u001b[0m iloc\u001b[38;5;241m.\u001b[39m_setitem_with_indexer(indexer, value, \u001b[38;5;28mself\u001b[39m\u001b[38;5;241m.\u001b[39mname)\n",
      "File \u001b[1;32mC:\\ProgramData\\anaconda3\\Lib\\site-packages\\pandas\\core\\indexing.py:1550\u001b[0m, in \u001b[0;36m_iLocIndexer._has_valid_setitem_indexer\u001b[1;34m(self, indexer)\u001b[0m\n\u001b[0;32m   1548\u001b[0m \u001b[38;5;28;01melif\u001b[39;00m is_integer(i):\n\u001b[0;32m   1549\u001b[0m     \u001b[38;5;28;01mif\u001b[39;00m i \u001b[38;5;241m>\u001b[39m\u001b[38;5;241m=\u001b[39m \u001b[38;5;28mlen\u001b[39m(ax):\n\u001b[1;32m-> 1550\u001b[0m         \u001b[38;5;28;01mraise\u001b[39;00m \u001b[38;5;167;01mIndexError\u001b[39;00m(\u001b[38;5;124m\"\u001b[39m\u001b[38;5;124miloc cannot enlarge its target object\u001b[39m\u001b[38;5;124m\"\u001b[39m)\n\u001b[0;32m   1551\u001b[0m \u001b[38;5;28;01melif\u001b[39;00m \u001b[38;5;28misinstance\u001b[39m(i, \u001b[38;5;28mdict\u001b[39m):\n\u001b[0;32m   1552\u001b[0m     \u001b[38;5;28;01mraise\u001b[39;00m \u001b[38;5;167;01mIndexError\u001b[39;00m(\u001b[38;5;124m\"\u001b[39m\u001b[38;5;124miloc cannot enlarge its target object\u001b[39m\u001b[38;5;124m\"\u001b[39m)\n",
      "\u001b[1;31mIndexError\u001b[0m: iloc cannot enlarge its target object"
     ]
    }
   ],
   "source": [
    "df.iloc[3, 2] = \"italienisch\""
   ]
  },
  {
   "cell_type": "code",
   "execution_count": 19,
   "id": "9c2b76df",
   "metadata": {},
   "outputs": [
    {
     "data": {
      "text/html": [
       "<div>\n",
       "<style scoped>\n",
       "    .dataframe tbody tr th:only-of-type {\n",
       "        vertical-align: middle;\n",
       "    }\n",
       "\n",
       "    .dataframe tbody tr th {\n",
       "        vertical-align: top;\n",
       "    }\n",
       "\n",
       "    .dataframe thead th {\n",
       "        text-align: right;\n",
       "    }\n",
       "</style>\n",
       "<table border=\"1\" class=\"dataframe\">\n",
       "  <thead>\n",
       "    <tr style=\"text-align: right;\">\n",
       "      <th></th>\n",
       "      <th>bevölkerung</th>\n",
       "      <th>fläche</th>\n",
       "      <th>land</th>\n",
       "      <th>sprache</th>\n",
       "    </tr>\n",
       "  </thead>\n",
       "  <tbody>\n",
       "    <tr>\n",
       "      <th>Berlin</th>\n",
       "      <td>3.6</td>\n",
       "      <td>892</td>\n",
       "      <td>Deutschland</td>\n",
       "      <td>Deutsch</td>\n",
       "    </tr>\n",
       "    <tr>\n",
       "      <th>Madrid</th>\n",
       "      <td>3.2</td>\n",
       "      <td>604</td>\n",
       "      <td>Spanien</td>\n",
       "      <td>Spanisch</td>\n",
       "    </tr>\n",
       "    <tr>\n",
       "      <th>Rom</th>\n",
       "      <td>2.8</td>\n",
       "      <td>1285</td>\n",
       "      <td>Italien</td>\n",
       "      <td>itelienisch</td>\n",
       "    </tr>\n",
       "  </tbody>\n",
       "</table>\n",
       "</div>"
      ],
      "text/plain": [
       "        bevölkerung  fläche         land      sprache\n",
       "Berlin          3.6     892  Deutschland      Deutsch\n",
       "Madrid          3.2     604      Spanien     Spanisch\n",
       "Rom             2.8    1285      Italien  itelienisch"
      ]
     },
     "execution_count": 19,
     "metadata": {},
     "output_type": "execute_result"
    }
   ],
   "source": [
    "df"
   ]
  },
  {
   "cell_type": "code",
   "execution_count": 23,
   "id": "308b4ed9",
   "metadata": {},
   "outputs": [],
   "source": [
    "df[\"sprache\"] =df[\"sprache\"].fillna(\"italienisch\")"
   ]
  },
  {
   "cell_type": "code",
   "execution_count": 24,
   "id": "d2f1fa53",
   "metadata": {},
   "outputs": [
    {
     "data": {
      "text/html": [
       "<div>\n",
       "<style scoped>\n",
       "    .dataframe tbody tr th:only-of-type {\n",
       "        vertical-align: middle;\n",
       "    }\n",
       "\n",
       "    .dataframe tbody tr th {\n",
       "        vertical-align: top;\n",
       "    }\n",
       "\n",
       "    .dataframe thead th {\n",
       "        text-align: right;\n",
       "    }\n",
       "</style>\n",
       "<table border=\"1\" class=\"dataframe\">\n",
       "  <thead>\n",
       "    <tr style=\"text-align: right;\">\n",
       "      <th></th>\n",
       "      <th>bevölkerung</th>\n",
       "      <th>fläche</th>\n",
       "      <th>land</th>\n",
       "      <th>sprache</th>\n",
       "    </tr>\n",
       "  </thead>\n",
       "  <tbody>\n",
       "    <tr>\n",
       "      <th>Berlin</th>\n",
       "      <td>3.6</td>\n",
       "      <td>892</td>\n",
       "      <td>Deutschland</td>\n",
       "      <td>Deutsch</td>\n",
       "    </tr>\n",
       "    <tr>\n",
       "      <th>Madrid</th>\n",
       "      <td>3.2</td>\n",
       "      <td>604</td>\n",
       "      <td>Spanien</td>\n",
       "      <td>Spanisch</td>\n",
       "    </tr>\n",
       "    <tr>\n",
       "      <th>Rom</th>\n",
       "      <td>2.8</td>\n",
       "      <td>1285</td>\n",
       "      <td>Italien</td>\n",
       "      <td>italienisch</td>\n",
       "    </tr>\n",
       "  </tbody>\n",
       "</table>\n",
       "</div>"
      ],
      "text/plain": [
       "        bevölkerung  fläche         land      sprache\n",
       "Berlin          3.6     892  Deutschland      Deutsch\n",
       "Madrid          3.2     604      Spanien     Spanisch\n",
       "Rom             2.8    1285      Italien  italienisch"
      ]
     },
     "execution_count": 24,
     "metadata": {},
     "output_type": "execute_result"
    }
   ],
   "source": [
    "df"
   ]
  },
  {
   "cell_type": "markdown",
   "id": "25184006",
   "metadata": {},
   "source": [
    "# Frage 3"
   ]
  },
  {
   "cell_type": "code",
   "execution_count": 25,
   "id": "30f7cad5",
   "metadata": {},
   "outputs": [
    {
     "data": {
      "text/html": [
       "<div>\n",
       "<style scoped>\n",
       "    .dataframe tbody tr th:only-of-type {\n",
       "        vertical-align: middle;\n",
       "    }\n",
       "\n",
       "    .dataframe tbody tr th {\n",
       "        vertical-align: top;\n",
       "    }\n",
       "\n",
       "    .dataframe thead th {\n",
       "        text-align: right;\n",
       "    }\n",
       "</style>\n",
       "<table border=\"1\" class=\"dataframe\">\n",
       "  <thead>\n",
       "    <tr style=\"text-align: right;\">\n",
       "      <th></th>\n",
       "      <th>bevölkerung</th>\n",
       "      <th>fläche</th>\n",
       "      <th>land</th>\n",
       "      <th>sprache</th>\n",
       "    </tr>\n",
       "  </thead>\n",
       "  <tbody>\n",
       "    <tr>\n",
       "      <th>New York</th>\n",
       "      <td>8.5</td>\n",
       "      <td>784</td>\n",
       "      <td>USA</td>\n",
       "      <td>englisch</td>\n",
       "    </tr>\n",
       "  </tbody>\n",
       "</table>\n",
       "</div>"
      ],
      "text/plain": [
       "          bevölkerung  fläche land   sprache\n",
       "New York          8.5     784  USA  englisch"
      ]
     },
     "execution_count": 25,
     "metadata": {},
     "output_type": "execute_result"
    }
   ],
   "source": [
    "Stadt = [\"New York\"]\n",
    "bevölkerung = pd.Series(data=[8.5], index=Stadt)\n",
    "fläche = pd.Series(data=[784], index=Stadt)\n",
    "land = pd.Series(data=[\"USA\"], index=Stadt)\n",
    "sprache = pd.Series(data=[\"englisch\"], index=Stadt)\n",
    "\n",
    "my_dict = {'bevölkerung': bevölkerung,\n",
    "          'fläche': fläche,\n",
    "          'land': land,\n",
    "          'sprache': sprache\n",
    "          }\n",
    "df2=pd.DataFrame(my_dict)\n",
    "df2"
   ]
  },
  {
   "cell_type": "code",
   "execution_count": 26,
   "id": "9422cd50",
   "metadata": {},
   "outputs": [],
   "source": [
    "df3 = pd.concat([df, df2])"
   ]
  },
  {
   "cell_type": "code",
   "execution_count": 27,
   "id": "17334bf4",
   "metadata": {},
   "outputs": [
    {
     "data": {
      "text/html": [
       "<div>\n",
       "<style scoped>\n",
       "    .dataframe tbody tr th:only-of-type {\n",
       "        vertical-align: middle;\n",
       "    }\n",
       "\n",
       "    .dataframe tbody tr th {\n",
       "        vertical-align: top;\n",
       "    }\n",
       "\n",
       "    .dataframe thead th {\n",
       "        text-align: right;\n",
       "    }\n",
       "</style>\n",
       "<table border=\"1\" class=\"dataframe\">\n",
       "  <thead>\n",
       "    <tr style=\"text-align: right;\">\n",
       "      <th></th>\n",
       "      <th>bevölkerung</th>\n",
       "      <th>fläche</th>\n",
       "      <th>land</th>\n",
       "      <th>sprache</th>\n",
       "    </tr>\n",
       "  </thead>\n",
       "  <tbody>\n",
       "    <tr>\n",
       "      <th>Berlin</th>\n",
       "      <td>3.6</td>\n",
       "      <td>892</td>\n",
       "      <td>Deutschland</td>\n",
       "      <td>Deutsch</td>\n",
       "    </tr>\n",
       "    <tr>\n",
       "      <th>Madrid</th>\n",
       "      <td>3.2</td>\n",
       "      <td>604</td>\n",
       "      <td>Spanien</td>\n",
       "      <td>Spanisch</td>\n",
       "    </tr>\n",
       "    <tr>\n",
       "      <th>Rom</th>\n",
       "      <td>2.8</td>\n",
       "      <td>1285</td>\n",
       "      <td>Italien</td>\n",
       "      <td>italienisch</td>\n",
       "    </tr>\n",
       "    <tr>\n",
       "      <th>New York</th>\n",
       "      <td>8.5</td>\n",
       "      <td>784</td>\n",
       "      <td>USA</td>\n",
       "      <td>englisch</td>\n",
       "    </tr>\n",
       "  </tbody>\n",
       "</table>\n",
       "</div>"
      ],
      "text/plain": [
       "          bevölkerung  fläche         land      sprache\n",
       "Berlin            3.6     892  Deutschland      Deutsch\n",
       "Madrid            3.2     604      Spanien     Spanisch\n",
       "Rom               2.8    1285      Italien  italienisch\n",
       "New York          8.5     784          USA     englisch"
      ]
     },
     "execution_count": 27,
     "metadata": {},
     "output_type": "execute_result"
    }
   ],
   "source": [
    "df3"
   ]
  },
  {
   "cell_type": "markdown",
   "id": "89989ac4",
   "metadata": {},
   "source": [
    "# Frage 4"
   ]
  },
  {
   "cell_type": "code",
   "execution_count": 31,
   "id": "6408db92",
   "metadata": {},
   "outputs": [
    {
     "data": {
      "text/html": [
       "<div>\n",
       "<style scoped>\n",
       "    .dataframe tbody tr th:only-of-type {\n",
       "        vertical-align: middle;\n",
       "    }\n",
       "\n",
       "    .dataframe tbody tr th {\n",
       "        vertical-align: top;\n",
       "    }\n",
       "\n",
       "    .dataframe thead th {\n",
       "        text-align: right;\n",
       "    }\n",
       "</style>\n",
       "<table border=\"1\" class=\"dataframe\">\n",
       "  <thead>\n",
       "    <tr style=\"text-align: right;\">\n",
       "      <th></th>\n",
       "      <th>bevölkerung</th>\n",
       "      <th>fläche</th>\n",
       "      <th>land</th>\n",
       "      <th>sprache</th>\n",
       "      <th>EU</th>\n",
       "    </tr>\n",
       "  </thead>\n",
       "  <tbody>\n",
       "    <tr>\n",
       "      <th>Berlin</th>\n",
       "      <td>3.6</td>\n",
       "      <td>892</td>\n",
       "      <td>Deutschland</td>\n",
       "      <td>Deutsch</td>\n",
       "      <td>True</td>\n",
       "    </tr>\n",
       "    <tr>\n",
       "      <th>Madrid</th>\n",
       "      <td>3.2</td>\n",
       "      <td>604</td>\n",
       "      <td>Spanien</td>\n",
       "      <td>Spanisch</td>\n",
       "      <td>True</td>\n",
       "    </tr>\n",
       "    <tr>\n",
       "      <th>Rom</th>\n",
       "      <td>2.8</td>\n",
       "      <td>1285</td>\n",
       "      <td>Italien</td>\n",
       "      <td>italienisch</td>\n",
       "      <td>True</td>\n",
       "    </tr>\n",
       "    <tr>\n",
       "      <th>New York</th>\n",
       "      <td>8.5</td>\n",
       "      <td>784</td>\n",
       "      <td>USA</td>\n",
       "      <td>englisch</td>\n",
       "      <td>False</td>\n",
       "    </tr>\n",
       "  </tbody>\n",
       "</table>\n",
       "</div>"
      ],
      "text/plain": [
       "          bevölkerung  fläche         land      sprache     EU\n",
       "Berlin            3.6     892  Deutschland      Deutsch   True\n",
       "Madrid            3.2     604      Spanien     Spanisch   True\n",
       "Rom               2.8    1285      Italien  italienisch   True\n",
       "New York          8.5     784          USA     englisch  False"
      ]
     },
     "execution_count": 31,
     "metadata": {},
     "output_type": "execute_result"
    }
   ],
   "source": [
    "df3[\"EU\"] = df3[\"land\"] != \"USA\"\n",
    "df3"
   ]
  },
  {
   "cell_type": "markdown",
   "id": "a66b4127",
   "metadata": {},
   "source": [
    "# Frage 5"
   ]
  },
  {
   "cell_type": "code",
   "execution_count": 32,
   "id": "69d42826",
   "metadata": {},
   "outputs": [
    {
     "data": {
      "text/html": [
       "<div>\n",
       "<style scoped>\n",
       "    .dataframe tbody tr th:only-of-type {\n",
       "        vertical-align: middle;\n",
       "    }\n",
       "\n",
       "    .dataframe tbody tr th {\n",
       "        vertical-align: top;\n",
       "    }\n",
       "\n",
       "    .dataframe thead th {\n",
       "        text-align: right;\n",
       "    }\n",
       "</style>\n",
       "<table border=\"1\" class=\"dataframe\">\n",
       "  <thead>\n",
       "    <tr style=\"text-align: right;\">\n",
       "      <th></th>\n",
       "      <th>bevölkerung</th>\n",
       "      <th>fläche</th>\n",
       "      <th>land</th>\n",
       "      <th>sprache</th>\n",
       "      <th>EU</th>\n",
       "      <th>Region</th>\n",
       "    </tr>\n",
       "  </thead>\n",
       "  <tbody>\n",
       "    <tr>\n",
       "      <th>Berlin</th>\n",
       "      <td>3.6</td>\n",
       "      <td>892</td>\n",
       "      <td>Deutschland</td>\n",
       "      <td>Deutsch</td>\n",
       "      <td>True</td>\n",
       "      <td>Europe</td>\n",
       "    </tr>\n",
       "    <tr>\n",
       "      <th>Madrid</th>\n",
       "      <td>3.2</td>\n",
       "      <td>604</td>\n",
       "      <td>Spanien</td>\n",
       "      <td>Spanisch</td>\n",
       "      <td>True</td>\n",
       "      <td>Europe</td>\n",
       "    </tr>\n",
       "    <tr>\n",
       "      <th>Rom</th>\n",
       "      <td>2.8</td>\n",
       "      <td>1285</td>\n",
       "      <td>Italien</td>\n",
       "      <td>italienisch</td>\n",
       "      <td>True</td>\n",
       "      <td>Europe</td>\n",
       "    </tr>\n",
       "    <tr>\n",
       "      <th>New York</th>\n",
       "      <td>8.5</td>\n",
       "      <td>784</td>\n",
       "      <td>USA</td>\n",
       "      <td>englisch</td>\n",
       "      <td>False</td>\n",
       "      <td>Americas</td>\n",
       "    </tr>\n",
       "  </tbody>\n",
       "</table>\n",
       "</div>"
      ],
      "text/plain": [
       "          bevölkerung  fläche         land      sprache     EU    Region\n",
       "Berlin            3.6     892  Deutschland      Deutsch   True    Europe\n",
       "Madrid            3.2     604      Spanien     Spanisch   True    Europe\n",
       "Rom               2.8    1285      Italien  italienisch   True    Europe\n",
       "New York          8.5     784          USA     englisch  False  Americas"
      ]
     },
     "execution_count": 32,
     "metadata": {},
     "output_type": "execute_result"
    }
   ],
   "source": [
    "df3['Region']=np.where(df3[\"EU\"]==True, \"Europe\", \"Americas\")\n",
    "df3"
   ]
  },
  {
   "cell_type": "code",
   "execution_count": null,
   "id": "b8a064d0",
   "metadata": {},
   "outputs": [],
   "source": []
  }
 ],
 "metadata": {
  "kernelspec": {
   "display_name": "Python 3 (ipykernel)",
   "language": "python",
   "name": "python3"
  },
  "language_info": {
   "codemirror_mode": {
    "name": "ipython",
    "version": 3
   },
   "file_extension": ".py",
   "mimetype": "text/x-python",
   "name": "python",
   "nbconvert_exporter": "python",
   "pygments_lexer": "ipython3",
   "version": "3.11.5"
  }
 },
 "nbformat": 4,
 "nbformat_minor": 5
}
